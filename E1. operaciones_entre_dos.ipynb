{
 "cells": [
  {
   "cell_type": "code",
   "execution_count": null,
   "metadata": {},
   "outputs": [
    {
     "ename": "",
     "evalue": "",
     "output_type": "error",
     "traceback": [
      "\u001b[1;31mRunning cells with 'Python 3.10.4 64-bit' requires ipykernel package.\n",
      "\u001b[1;31mRun the following command to install 'ipykernel' into the Python environment. \n",
      "\u001b[1;31mCommand: 'c:/Users/jonfp/AppData/Local/Programs/Python/Python310/python.exe -m pip install ipykernel -U --user --force-reinstall'"
     ]
    }
   ],
   "source": [
    "def operaciones_entre_dos():\n",
    "    primer = int(input(\"Primer valor: \"))\n",
    "    segundo = int(input(\"Segundo valor: \"))\n",
    "    print(\"Primero más el segundo: \" + str(primer+segundo))\n",
    "    print(\"Primero menos el segundo: \" + str(primer-segundo))\n",
    "    print(\"Primero por el segundo: \" + str(primer*segundo))\n",
    "    print(\"Primero entre el segundo: \" + str(primer//segundo))\n",
    "operaciones_entre_dos()"
   ]
  }
 ],
 "metadata": {
  "kernelspec": {
   "display_name": "Python 3.10.4 64-bit",
   "language": "python",
   "name": "python3"
  },
  "language_info": {
   "name": "python",
   "version": "3.10.4"
  },
  "orig_nbformat": 4,
  "vscode": {
   "interpreter": {
    "hash": "549451e1fa6b1ca5738f5e5e404df8cbc96ab135489fdf705124a6ff97dedbd1"
   }
  }
 },
 "nbformat": 4,
 "nbformat_minor": 2
}
